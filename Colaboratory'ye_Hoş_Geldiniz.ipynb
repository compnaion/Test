{
  "cells": [
    {
      "cell_type": "markdown",
      "metadata": {
        "id": "view-in-github",
        "colab_type": "text"
      },
      "source": [
        "<a href=\"https://colab.research.google.com/github/compnaion/Test/blob/main/Colaboratory'ye_Ho%C5%9F_Geldiniz.ipynb\" target=\"_parent\"><img src=\"https://colab.research.google.com/assets/colab-badge.svg\" alt=\"Open In Colab\"/></a>"
      ]
    },
    {
      "cell_type": "code",
      "source": [
        "import cv2\n",
        "from google.colab.patches import cv2_imshow"
      ],
      "metadata": {
        "id": "btwUfyqBPHvp"
      },
      "execution_count": 1,
      "outputs": []
    },
    {
      "cell_type": "code",
      "source": [
        "from skimage.metrics import structural_similarity as compare_ssim\n",
        "import argparse\n",
        "import imutils\n",
        "import cv2"
      ],
      "metadata": {
        "id": "dplGaO_7Q2qF"
      },
      "execution_count": 2,
      "outputs": []
    },
    {
      "cell_type": "code",
      "source": [
        "im1 = cv2.imread('1.jpg')\n",
        "im2 = cv2.imread('2.jpg')\n",
        "\n",
        "grayA = cv2.cvtColor(im1, cv2.COLOR_BGR2GRAY)\n",
        "grayB = cv2.cvtColor(im2, cv2.COLOR_BGR2GRAY)"
      ],
      "metadata": {
        "id": "FUFuvjxEPrLi"
      },
      "execution_count": 3,
      "outputs": []
    },
    {
      "cell_type": "code",
      "source": [
        "(score, diff) = compare_ssim(grayA, grayB, full=True)\n",
        "diff = (diff * 255).astype(\"uint8\")\n",
        "print(\"SSIM: {}\".format(score))"
      ],
      "metadata": {
        "id": "ucK3q5npQ3pK",
        "outputId": "c50a45b0-2d81-4ed8-cde8-602a109bfc96",
        "colab": {
          "base_uri": "https://localhost:8080/"
        }
      },
      "execution_count": 4,
      "outputs": [
        {
          "output_type": "stream",
          "name": "stdout",
          "text": [
            "SSIM: 0.933443522282176\n"
          ]
        }
      ]
    },
    {
      "cell_type": "code",
      "source": [
        "thresh = cv2.threshold(grayA, 0, 255,\n",
        "\tcv2.THRESH_BINARY_INV | cv2.THRESH_OTSU)[1]\n",
        "\n",
        "thresh2 = cv2.threshold(grayB, 0, 255,\n",
        "\tcv2.THRESH_BINARY_INV | cv2.THRESH_OTSU)[1]"
      ],
      "metadata": {
        "id": "3a0WVKZ2RQ7X"
      },
      "execution_count": 12,
      "outputs": []
    },
    {
      "cell_type": "code",
      "source": [
        "ret, thresh4 = cv2.threshold(grayA,180,255,cv2.THRESH_BINARY)\n",
        "cv2_imshow(thresh4)\n",
        "\n",
        "ret, thresh3 = cv2.threshold(grayB,180,255,cv2.THRESH_BINARY)\n",
        "cv2_imshow(thresh3)"
      ],
      "metadata": {
        "id": "thMN9cYNGTx7",
        "outputId": "2ff53e0f-64cd-47e4-dfb5-16e0cb2b57ed",
        "colab": {
          "base_uri": "https://localhost:8080/",
          "height": 977
        }
      },
      "execution_count": 21,
      "outputs": [
        {
          "output_type": "display_data",
          "data": {
            "image/png": "[encoded data removed]",
            "text/plain": [
              "<PIL.Image.Image image mode=L size=640x480 at 0x7F5392FE8F50>"
            ]
          },
          "metadata": {}
        },
        {
          "output_type": "display_data",
          "data": {
            "image/png": "[encoded data removed]",
            "text/plain": [
              "<PIL.Image.Image image mode=L size=640x480 at 0x7F5393056750>"
            ]
          },
          "metadata": {}
        }
      ]
    },
    {
      "cell_type": "code",
      "source": [
        "cv2_imshow(thresh3-thresh4)"
      ],
      "metadata": {
        "id": "zNRqrsroF156",
        "outputId": "28e330ad-1d5a-44bf-d997-1128d9d64032",
        "colab": {
          "base_uri": "https://localhost:8080/",
          "height": 497
        }
      },
      "execution_count": 23,
      "outputs": [
        {
          "output_type": "display_data",
          "data": {
            "image/png": "[encoded data removed]",
            "text/plain": [
              "<PIL.Image.Image image mode=L size=640x480 at 0x7F5392FD8390>"
            ]
          },
          "metadata": {}
        }
      ]
    }
  ],
  "metadata": {
    "colab": {
      "collapsed_sections": [],
      "name": "Colaboratory'ye Hoş Geldiniz",
      "provenance": [],
      "include_colab_link": true
    },
    "kernelspec": {
      "display_name": "Python 3",
      "name": "python3"
    }
  },
  "nbformat": 4,
  "nbformat_minor": 0
}